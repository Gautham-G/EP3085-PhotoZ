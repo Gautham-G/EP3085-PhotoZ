{
 "cells": [
  {
   "cell_type": "code",
   "execution_count": 3,
   "metadata": {},
   "outputs": [
    {
     "name": "stderr",
     "output_type": "stream",
     "text": [
      "/apps/python-2.7.14/lib/python2.7/site-packages/scikit_learn-0.19.2-py2.7-linux-x86_64.egg/sklearn/ensemble/weight_boosting.py:29: DeprecationWarning: numpy.core.umath_tests is an internal NumPy module and should not be imported. It will be removed in a future NumPy release.\n",
      "  from numpy.core.umath_tests import inner1d\n"
     ]
    }
   ],
   "source": [
    "from sklearn.ensemble import RandomForestRegressor\n",
    "from sklearn.tree import DecisionTreeRegressor\n",
    "from boruta import BorutaPy as bp\n",
    "import pandas as pd\n",
    "import numpy as np\n",
    "import matplotlib.pyplot as plt\n",
    "from sklearn.model_selection import train_test_split\n",
    "from sklearn.model_selection import train_test_split\n",
    "from sklearn.linear_model import LinearRegression\n",
    "from sklearn.ensemble import RandomForestRegressor\n",
    "from sklearn.feature_selection import SelectFromModel\n",
    "from sklearn.svm import SVR\n",
    "import time\n",
    "from sklearn.preprocessing import MinMaxScaler"
   ]
  },
  {
   "cell_type": "code",
   "execution_count": 4,
   "metadata": {},
   "outputs": [],
   "source": [
    "data = pd.read_csv('specPhotoDR10v2_GauthamG_0.csv')"
   ]
  },
  {
   "cell_type": "code",
   "execution_count": 5,
   "metadata": {},
   "outputs": [],
   "source": [
    "data.dropna(inplace = True)"
   ]
  },
  {
   "cell_type": "code",
   "execution_count": 6,
   "metadata": {},
   "outputs": [
    {
     "data": {
      "text/html": [
       "<div>\n",
       "<style scoped>\n",
       "    .dataframe tbody tr th:only-of-type {\n",
       "        vertical-align: middle;\n",
       "    }\n",
       "\n",
       "    .dataframe tbody tr th {\n",
       "        vertical-align: top;\n",
       "    }\n",
       "\n",
       "    .dataframe thead th {\n",
       "        text-align: right;\n",
       "    }\n",
       "</style>\n",
       "<table border=\"1\" class=\"dataframe\">\n",
       "  <thead>\n",
       "    <tr style=\"text-align: right;\">\n",
       "      <th></th>\n",
       "      <th>specObjID</th>\n",
       "      <th>objid</th>\n",
       "      <th>ra</th>\n",
       "      <th>dec</th>\n",
       "      <th>photoz</th>\n",
       "      <th>photoz_err</th>\n",
       "      <th>specz</th>\n",
       "      <th>specz_err</th>\n",
       "      <th>dered_u</th>\n",
       "      <th>dered_g</th>\n",
       "      <th>...</th>\n",
       "      <th>expPhi_g</th>\n",
       "      <th>expAB_r</th>\n",
       "      <th>expRad_r</th>\n",
       "      <th>expPhi_r</th>\n",
       "      <th>expAB_i</th>\n",
       "      <th>expRad_i</th>\n",
       "      <th>expPhi_i</th>\n",
       "      <th>expAB_z</th>\n",
       "      <th>expRad_z</th>\n",
       "      <th>expPhi_z</th>\n",
       "    </tr>\n",
       "  </thead>\n",
       "  <tbody>\n",
       "    <tr>\n",
       "      <th>0</th>\n",
       "      <td>0.081865</td>\n",
       "      <td>0.002829</td>\n",
       "      <td>0.154768</td>\n",
       "      <td>0.128969</td>\n",
       "      <td>0.297002</td>\n",
       "      <td>0.999681</td>\n",
       "      <td>0.043863</td>\n",
       "      <td>0.001021</td>\n",
       "      <td>0.533379</td>\n",
       "      <td>0.480263</td>\n",
       "      <td>...</td>\n",
       "      <td>0.464509</td>\n",
       "      <td>0.824348</td>\n",
       "      <td>0.013380</td>\n",
       "      <td>0.479943</td>\n",
       "      <td>0.796099</td>\n",
       "      <td>0.013494</td>\n",
       "      <td>0.480844</td>\n",
       "      <td>0.606807</td>\n",
       "      <td>0.010235</td>\n",
       "      <td>0.506055</td>\n",
       "    </tr>\n",
       "    <tr>\n",
       "      <th>1</th>\n",
       "      <td>0.081868</td>\n",
       "      <td>0.002829</td>\n",
       "      <td>0.156205</td>\n",
       "      <td>0.129019</td>\n",
       "      <td>0.584260</td>\n",
       "      <td>0.999817</td>\n",
       "      <td>0.064740</td>\n",
       "      <td>0.001021</td>\n",
       "      <td>0.479019</td>\n",
       "      <td>0.490616</td>\n",
       "      <td>...</td>\n",
       "      <td>0.540118</td>\n",
       "      <td>0.594466</td>\n",
       "      <td>0.013163</td>\n",
       "      <td>0.515143</td>\n",
       "      <td>0.610589</td>\n",
       "      <td>0.013029</td>\n",
       "      <td>0.511761</td>\n",
       "      <td>0.279182</td>\n",
       "      <td>0.012368</td>\n",
       "      <td>0.545185</td>\n",
       "    </tr>\n",
       "    <tr>\n",
       "      <th>2</th>\n",
       "      <td>0.081493</td>\n",
       "      <td>0.002877</td>\n",
       "      <td>0.141090</td>\n",
       "      <td>0.136944</td>\n",
       "      <td>0.152211</td>\n",
       "      <td>0.999683</td>\n",
       "      <td>0.022515</td>\n",
       "      <td>0.001021</td>\n",
       "      <td>0.428546</td>\n",
       "      <td>0.415922</td>\n",
       "      <td>...</td>\n",
       "      <td>0.475371</td>\n",
       "      <td>0.913257</td>\n",
       "      <td>0.035797</td>\n",
       "      <td>0.476118</td>\n",
       "      <td>0.890801</td>\n",
       "      <td>0.034961</td>\n",
       "      <td>0.484317</td>\n",
       "      <td>0.949539</td>\n",
       "      <td>0.025079</td>\n",
       "      <td>0.470135</td>\n",
       "    </tr>\n",
       "    <tr>\n",
       "      <th>3</th>\n",
       "      <td>0.081494</td>\n",
       "      <td>0.002877</td>\n",
       "      <td>0.141090</td>\n",
       "      <td>0.136944</td>\n",
       "      <td>0.152211</td>\n",
       "      <td>0.999683</td>\n",
       "      <td>0.022520</td>\n",
       "      <td>0.001021</td>\n",
       "      <td>0.428546</td>\n",
       "      <td>0.415922</td>\n",
       "      <td>...</td>\n",
       "      <td>0.475371</td>\n",
       "      <td>0.913257</td>\n",
       "      <td>0.035797</td>\n",
       "      <td>0.476118</td>\n",
       "      <td>0.890801</td>\n",
       "      <td>0.034961</td>\n",
       "      <td>0.484317</td>\n",
       "      <td>0.949539</td>\n",
       "      <td>0.025079</td>\n",
       "      <td>0.470135</td>\n",
       "    </tr>\n",
       "    <tr>\n",
       "      <th>6</th>\n",
       "      <td>0.081493</td>\n",
       "      <td>0.002877</td>\n",
       "      <td>0.141406</td>\n",
       "      <td>0.138006</td>\n",
       "      <td>0.606950</td>\n",
       "      <td>0.999776</td>\n",
       "      <td>0.001497</td>\n",
       "      <td>0.001021</td>\n",
       "      <td>0.600054</td>\n",
       "      <td>0.507319</td>\n",
       "      <td>...</td>\n",
       "      <td>0.578584</td>\n",
       "      <td>0.172073</td>\n",
       "      <td>0.025074</td>\n",
       "      <td>0.583177</td>\n",
       "      <td>0.338253</td>\n",
       "      <td>0.005512</td>\n",
       "      <td>0.543976</td>\n",
       "      <td>0.197601</td>\n",
       "      <td>0.006683</td>\n",
       "      <td>0.507553</td>\n",
       "    </tr>\n",
       "  </tbody>\n",
       "</table>\n",
       "<p>5 rows × 80 columns</p>\n",
       "</div>"
      ],
      "text/plain": [
       "   specObjID     objid        ra       dec    photoz  photoz_err     specz  \\\n",
       "0   0.081865  0.002829  0.154768  0.128969  0.297002    0.999681  0.043863   \n",
       "1   0.081868  0.002829  0.156205  0.129019  0.584260    0.999817  0.064740   \n",
       "2   0.081493  0.002877  0.141090  0.136944  0.152211    0.999683  0.022515   \n",
       "3   0.081494  0.002877  0.141090  0.136944  0.152211    0.999683  0.022520   \n",
       "6   0.081493  0.002877  0.141406  0.138006  0.606950    0.999776  0.001497   \n",
       "\n",
       "   specz_err   dered_u   dered_g    ...     expPhi_g   expAB_r  expRad_r  \\\n",
       "0   0.001021  0.533379  0.480263    ...     0.464509  0.824348  0.013380   \n",
       "1   0.001021  0.479019  0.490616    ...     0.540118  0.594466  0.013163   \n",
       "2   0.001021  0.428546  0.415922    ...     0.475371  0.913257  0.035797   \n",
       "3   0.001021  0.428546  0.415922    ...     0.475371  0.913257  0.035797   \n",
       "6   0.001021  0.600054  0.507319    ...     0.578584  0.172073  0.025074   \n",
       "\n",
       "   expPhi_r   expAB_i  expRad_i  expPhi_i   expAB_z  expRad_z  expPhi_z  \n",
       "0  0.479943  0.796099  0.013494  0.480844  0.606807  0.010235  0.506055  \n",
       "1  0.515143  0.610589  0.013029  0.511761  0.279182  0.012368  0.545185  \n",
       "2  0.476118  0.890801  0.034961  0.484317  0.949539  0.025079  0.470135  \n",
       "3  0.476118  0.890801  0.034961  0.484317  0.949539  0.025079  0.470135  \n",
       "6  0.583177  0.338253  0.005512  0.543976  0.197601  0.006683  0.507553  \n",
       "\n",
       "[5 rows x 80 columns]"
      ]
     },
     "execution_count": 6,
     "metadata": {},
     "output_type": "execute_result"
    }
   ],
   "source": [
    "scaler = MinMaxScaler()\n",
    "data[data.columns] = scaler.fit_transform(data[data.columns])\n",
    "data.head()"
   ]
  },
  {
   "cell_type": "code",
   "execution_count": 7,
   "metadata": {},
   "outputs": [],
   "source": [
    "data.dropna(inplace = True)"
   ]
  },
  {
   "cell_type": "code",
   "execution_count": 8,
   "metadata": {},
   "outputs": [],
   "source": [
    "data = data.drop(['specObjID', 'objid'], axis = 1)"
   ]
  },
  {
   "cell_type": "code",
   "execution_count": 9,
   "metadata": {},
   "outputs": [],
   "source": [
    "XErr = []\n",
    "sub1 = 'err'\n",
    "for a in list(data.columns):\n",
    "  if sub1 in a:\n",
    "    XErr.append(a)\n",
    "sub2 = 'Err'\n",
    "for a in list(data.columns):\n",
    "  if sub2 in a:\n",
    "    XErr.append(a)"
   ]
  },
  {
   "cell_type": "code",
   "execution_count": 10,
   "metadata": {},
   "outputs": [],
   "source": [
    "data = data.drop(XErr, axis = 1)"
   ]
  },
  {
   "cell_type": "code",
   "execution_count": 11,
   "metadata": {},
   "outputs": [
    {
     "name": "stdout",
     "output_type": "stream",
     "text": [
      "ra\n",
      "dec\n",
      "photoz\n",
      "specz\n",
      "dered_u\n",
      "dered_g\n",
      "dered_r\n",
      "dered_i\n",
      "dered_z\n",
      "specType\n",
      "photpType\n",
      "petroRad_u\n",
      "petroRad_g\n",
      "petroRad_r\n",
      "petroRad_i\n",
      "petroRad_z\n",
      "deVRad_u\n",
      "deVRad_g\n",
      "deVRad_r\n",
      "deVRad_i\n",
      "deVRad_z\n",
      "extinction_u\n",
      "extinction_g\n",
      "extinction_r\n",
      "extinction_i\n",
      "extinction_z\n",
      "psfMag_u\n",
      "psfMag_g\n",
      "psfMag_r\n",
      "psfMag_i\n",
      "psfMag_z\n",
      "fiberMag_u\n",
      "fiberMag_g\n",
      "fiberMag_r\n",
      "fiberMag_i\n",
      "fiberMag_z\n",
      "expAB_u\n",
      "expRad_u\n",
      "expPhi_u\n",
      "expAB_g\n",
      "expRad_g\n",
      "expPhi_g\n",
      "expAB_r\n",
      "expRad_r\n",
      "expPhi_r\n",
      "expAB_i\n",
      "expRad_i\n",
      "expPhi_i\n",
      "expAB_z\n",
      "expRad_z\n",
      "expPhi_z\n"
     ]
    }
   ],
   "source": [
    "for dcol in data.columns:\n",
    "    print(dcol)"
   ]
  },
  {
   "cell_type": "code",
   "execution_count": 12,
   "metadata": {},
   "outputs": [],
   "source": [
    "data_origi = data"
   ]
  },
  {
   "cell_type": "code",
   "execution_count": 13,
   "metadata": {},
   "outputs": [],
   "source": [
    "data = data.drop(['specType', 'photpType', 'specz'], axis = 1)"
   ]
  },
  {
   "cell_type": "code",
   "execution_count": 14,
   "metadata": {},
   "outputs": [],
   "source": [
    "RFR = RandomForestRegressor()\n",
    "X = data.drop(['photoz'], axis = 1)\n",
    "y = data['photoz']\n",
    "names = list(X.columns)"
   ]
  },
  {
   "cell_type": "code",
   "execution_count": 15,
   "metadata": {},
   "outputs": [],
   "source": [
    "X_train, X_test, y_train, y_test = train_test_split(X, y, test_size=0.4, random_state=101)"
   ]
  },
  {
   "cell_type": "code",
   "execution_count": 16,
   "metadata": {},
   "outputs": [],
   "source": [
    "import time"
   ]
  },
  {
   "cell_type": "code",
   "execution_count": 17,
   "metadata": {},
   "outputs": [
    {
     "name": "stdout",
     "output_type": "stream",
     "text": [
      "8.6784362793e-05\n"
     ]
    }
   ],
   "source": [
    "start = time.time()\n",
    "for i in range(50):\n",
    "     i = 1\n",
    "stop = time.time()\n",
    "time_ = stop - start\n",
    "print(time_)\n",
    "# Testing time library"
   ]
  },
  {
   "cell_type": "code",
   "execution_count": 18,
   "metadata": {},
   "outputs": [],
   "source": [
    "DTR_0 = DecisionTreeRegressor()"
   ]
  },
  {
   "cell_type": "code",
   "execution_count": 20,
   "metadata": {},
   "outputs": [
    {
     "name": "stdout",
     "output_type": "stream",
     "text": [
      "61.3255860806\n"
     ]
    }
   ],
   "source": [
    "start = time.time()\n",
    "DTR_0.fit(X_train, y_train)\n",
    "stop = time.time()\n",
    "print(stop - start)"
   ]
  },
  {
   "cell_type": "code",
   "execution_count": 21,
   "metadata": {},
   "outputs": [
    {
     "data": {
      "text/plain": [
       "0.9553899792912176"
      ]
     },
     "execution_count": 21,
     "metadata": {},
     "output_type": "execute_result"
    }
   ],
   "source": [
    "DTR_0.score(X_test, y_test)\n",
    "# R^2 metric"
   ]
  },
  {
   "cell_type": "code",
   "execution_count": 22,
   "metadata": {},
   "outputs": [],
   "source": [
    "pred_DTR_0 = DTR_0.predict(X_test)"
   ]
  },
  {
   "cell_type": "code",
   "execution_count": 23,
   "metadata": {},
   "outputs": [],
   "source": [
    "from sklearn import metrics"
   ]
  },
  {
   "cell_type": "code",
   "execution_count": 24,
   "metadata": {},
   "outputs": [
    {
     "name": "stdout",
     "output_type": "stream",
     "text": [
      "0.001820296623890121\n",
      "0.04266493435937903\n"
     ]
    }
   ],
   "source": [
    "print(metrics.mean_squared_error(y_test, pred_DTR_0))\n",
    "print(np.sqrt(metrics.mean_squared_error(y_test, pred_DTR_0)))\n",
    "# MSE and RMSE"
   ]
  },
  {
   "cell_type": "code",
   "execution_count": 25,
   "metadata": {},
   "outputs": [],
   "source": [
    "RFR_0 = RandomForestRegressor()"
   ]
  },
  {
   "cell_type": "code",
   "execution_count": 26,
   "metadata": {},
   "outputs": [
    {
     "name": "stdout",
     "output_type": "stream",
     "text": [
      "377.425678968\n"
     ]
    }
   ],
   "source": [
    "start = time.time()\n",
    "RFR_0.fit(X_train, y_train)\n",
    "stop = time.time()\n",
    "print(stop - start)"
   ]
  },
  {
   "cell_type": "code",
   "execution_count": 27,
   "metadata": {},
   "outputs": [
    {
     "data": {
      "text/plain": [
       "0.9773796817849687"
      ]
     },
     "execution_count": 27,
     "metadata": {},
     "output_type": "execute_result"
    }
   ],
   "source": [
    "RFR_0.score(X_test, y_test)\n",
    "# R^2 metric"
   ]
  },
  {
   "cell_type": "code",
   "execution_count": 28,
   "metadata": {},
   "outputs": [],
   "source": [
    "pred_RFR_0 = RFR_0.predict(X_test)"
   ]
  },
  {
   "cell_type": "code",
   "execution_count": 29,
   "metadata": {},
   "outputs": [
    {
     "name": "stdout",
     "output_type": "stream",
     "text": [
      "0.0009230143412606723\n",
      "0.030381151085182277\n"
     ]
    }
   ],
   "source": [
    "print(metrics.mean_squared_error(y_test, pred_RFR_0))\n",
    "print(np.sqrt(metrics.mean_squared_error(y_test, pred_RFR_0)))\n",
    "# MSE and RMSE"
   ]
  },
  {
   "cell_type": "code",
   "execution_count": 30,
   "metadata": {},
   "outputs": [],
   "source": [
    "# From previous estimation of top 20 features and photoz\n",
    "data1_columns = ['dered_g','fiberMag_r','dered_u','fiberMag_i','psfMag_z','psfMag_g','fiberMag_g','fiberMag_z','fiberMag_u','dered_i','dered_z','dered_r','deVRad_g','expAB_r','psfMag_r','psfMag_u','psfMag_i','expRad_u','deVRad_z','expAB_z','photoz']"
   ]
  },
  {
   "cell_type": "code",
   "execution_count": 31,
   "metadata": {},
   "outputs": [
    {
     "name": "stdout",
     "output_type": "stream",
     "text": [
      "(21,)\n"
     ]
    }
   ],
   "source": [
    "print(np.array(data1_columns).shape)"
   ]
  },
  {
   "cell_type": "code",
   "execution_count": 32,
   "metadata": {},
   "outputs": [],
   "source": [
    "from sklearn.ensemble import AdaBoostRegressor"
   ]
  },
  {
   "cell_type": "code",
   "execution_count": 33,
   "metadata": {},
   "outputs": [],
   "source": [
    "ADR_0 = AdaBoostRegressor(DTR_0)"
   ]
  },
  {
   "cell_type": "code",
   "execution_count": 34,
   "metadata": {},
   "outputs": [
    {
     "name": "stdout",
     "output_type": "stream",
     "text": [
      "2695.89390707\n"
     ]
    }
   ],
   "source": [
    "start = time.time()\n",
    "ADR_0.fit(X_train, y_train)\n",
    "stop = time.time()\n",
    "print(stop - start)"
   ]
  },
  {
   "cell_type": "code",
   "execution_count": 35,
   "metadata": {},
   "outputs": [
    {
     "data": {
      "text/plain": [
       "0.9823835995998619"
      ]
     },
     "execution_count": 35,
     "metadata": {},
     "output_type": "execute_result"
    }
   ],
   "source": [
    "ADR_0.score(X_test, y_test)\n",
    "# R^2 metric"
   ]
  },
  {
   "cell_type": "code",
   "execution_count": 36,
   "metadata": {},
   "outputs": [],
   "source": [
    "pred_ADR_0 = ADR_0.predict(X_test)"
   ]
  },
  {
   "cell_type": "code",
   "execution_count": 37,
   "metadata": {},
   "outputs": [
    {
     "name": "stdout",
     "output_type": "stream",
     "text": [
      "0.0007188311877908386\n",
      "0.026811027354259265\n"
     ]
    }
   ],
   "source": [
    "print(metrics.mean_squared_error(y_test, pred_ADR_0))\n",
    "print(np.sqrt(metrics.mean_squared_error(y_test, pred_ADR_0)))\n",
    "# MSE and RMSE"
   ]
  },
  {
   "cell_type": "code",
   "execution_count": 38,
   "metadata": {},
   "outputs": [],
   "source": [
    "data1 = data[data1_columns]\n",
    "X1 = data1.drop(['photoz'], axis = 1)\n",
    "y1 = data1['photoz']"
   ]
  },
  {
   "cell_type": "code",
   "execution_count": 39,
   "metadata": {},
   "outputs": [],
   "source": [
    "X1_train, X1_test, y1_train, y1_test = train_test_split(X1, y1, test_size=0.4, random_state=101)"
   ]
  },
  {
   "cell_type": "code",
   "execution_count": 40,
   "metadata": {},
   "outputs": [],
   "source": [
    "DTR_1 = DecisionTreeRegressor()"
   ]
  },
  {
   "cell_type": "code",
   "execution_count": 41,
   "metadata": {},
   "outputs": [
    {
     "name": "stdout",
     "output_type": "stream",
     "text": [
      "25.7359960079\n"
     ]
    }
   ],
   "source": [
    "start = time.time()\n",
    "DTR_1.fit(X1_train, y1_train)\n",
    "stop = time.time()\n",
    "print(stop - start)"
   ]
  },
  {
   "cell_type": "code",
   "execution_count": 42,
   "metadata": {},
   "outputs": [
    {
     "data": {
      "text/plain": [
       "0.9581255253637162"
      ]
     },
     "execution_count": 42,
     "metadata": {},
     "output_type": "execute_result"
    }
   ],
   "source": [
    "DTR_1.score(X1_test, y1_test)\n",
    "# R^2 metric"
   ]
  },
  {
   "cell_type": "code",
   "execution_count": 43,
   "metadata": {},
   "outputs": [],
   "source": [
    "pred_DTR_1 = DTR_1.predict(X1_test)"
   ]
  },
  {
   "cell_type": "code",
   "execution_count": 44,
   "metadata": {},
   "outputs": [
    {
     "name": "stdout",
     "output_type": "stream",
     "text": [
      "0.0017086736028480182\n",
      "0.04133610531784554\n"
     ]
    }
   ],
   "source": [
    "print(metrics.mean_squared_error(y1_test, pred_DTR_1))\n",
    "print((np.sqrt(metrics.mean_squared_error(y1_test, pred_DTR_1))))\n",
    "# MSE and RMSE"
   ]
  },
  {
   "cell_type": "code",
   "execution_count": 45,
   "metadata": {},
   "outputs": [],
   "source": [
    "RFR_1 = RandomForestRegressor()"
   ]
  },
  {
   "cell_type": "code",
   "execution_count": 46,
   "metadata": {},
   "outputs": [
    {
     "name": "stdout",
     "output_type": "stream",
     "text": [
      "157.815502882\n"
     ]
    }
   ],
   "source": [
    "start = time.time()\n",
    "RFR_1.fit(X1_train, y1_train)\n",
    "stop = time.time()\n",
    "print(stop - start)"
   ]
  },
  {
   "cell_type": "code",
   "execution_count": 47,
   "metadata": {},
   "outputs": [
    {
     "data": {
      "text/plain": [
       "0.9787522895477205"
      ]
     },
     "execution_count": 47,
     "metadata": {},
     "output_type": "execute_result"
    }
   ],
   "source": [
    "RFR_1.score(X1_test, y1_test)\n",
    "# R^2 metric"
   ]
  },
  {
   "cell_type": "code",
   "execution_count": 48,
   "metadata": {},
   "outputs": [],
   "source": [
    "pred_RFR_1 = RFR_1.predict(X1_test)"
   ]
  },
  {
   "cell_type": "code",
   "execution_count": 49,
   "metadata": {},
   "outputs": [
    {
     "name": "stdout",
     "output_type": "stream",
     "text": [
      "0.0008670055513797322\n",
      "0.026811027354259265\n"
     ]
    }
   ],
   "source": [
    "print(metrics.mean_squared_error(y1_test, pred_RFR_1))\n",
    "print(np.sqrt(metrics.mean_squared_error(y_test, pred_ADR_0)))\n",
    "# MSE and RMSE"
   ]
  },
  {
   "cell_type": "code",
   "execution_count": 50,
   "metadata": {},
   "outputs": [],
   "source": [
    "ADR_1 = AdaBoostRegressor(DTR_1)"
   ]
  },
  {
   "cell_type": "code",
   "execution_count": 51,
   "metadata": {},
   "outputs": [
    {
     "name": "stdout",
     "output_type": "stream",
     "text": [
      "1191.2598412\n"
     ]
    }
   ],
   "source": [
    "start = time.time()\n",
    "ADR_1.fit(X1_train, y1_train)\n",
    "stop = time.time()\n",
    "print(stop - start)"
   ]
  },
  {
   "cell_type": "code",
   "execution_count": 52,
   "metadata": {},
   "outputs": [
    {
     "data": {
      "text/plain": [
       "0.9833328516782339"
      ]
     },
     "execution_count": 52,
     "metadata": {},
     "output_type": "execute_result"
    }
   ],
   "source": [
    "ADR_1.score(X1_test, y1_test)\n",
    "# R^2 metric"
   ]
  },
  {
   "cell_type": "code",
   "execution_count": 53,
   "metadata": {},
   "outputs": [],
   "source": [
    "pred_ADR_1 = ADR_1.predict(X1_test)"
   ]
  },
  {
   "cell_type": "code",
   "execution_count": 54,
   "metadata": {},
   "outputs": [
    {
     "name": "stdout",
     "output_type": "stream",
     "text": [
      "0.0006800972816857243\n",
      "0.026078674845277785\n"
     ]
    }
   ],
   "source": [
    "print(metrics.mean_squared_error(y1_test, pred_ADR_1))\n",
    "print(np.sqrt(metrics.mean_squared_error(y1_test, pred_ADR_1)))\n",
    "# MSE and RMSE"
   ]
  },
  {
   "cell_type": "code",
   "execution_count": 55,
   "metadata": {},
   "outputs": [],
   "source": [
    "import seaborn as sns"
   ]
  },
  {
   "cell_type": "code",
   "execution_count": 56,
   "metadata": {},
   "outputs": [
    {
     "data": {
      "text/plain": [
       "<matplotlib.collections.PathCollection at 0x7f656fc0f510>"
      ]
     },
     "execution_count": 56,
     "metadata": {},
     "output_type": "execute_result"
    },
    {
     "data": {
      "image/png": "[encoded data removed]",
      "text/plain": [
       "<Figure size 432x288 with 1 Axes>"
      ]
     },
     "metadata": {
      "needs_background": "light"
     },
     "output_type": "display_data"
    }
   ],
   "source": [
    "plt.scatter(data_origi['specz'], data_origi['photoz'])"
   ]
  },
  {
   "cell_type": "code",
   "execution_count": 57,
   "metadata": {},
   "outputs": [
    {
     "data": {
      "text/plain": [
       "<matplotlib.collections.PathCollection at 0x7f656fb357d0>"
      ]
     },
     "execution_count": 57,
     "metadata": {},
     "output_type": "execute_result"
    },
    {
     "data": {
      "image/png": "[encoded data removed]",
      "text/plain": [
       "<Figure size 432x288 with 1 Axes>"
      ]
     },
     "metadata": {
      "needs_background": "light"
     },
     "output_type": "display_data"
    }
   ],
   "source": [
    "plt.scatter(y1_test, pred_ADR_1)"
   ]
  },
  {
   "cell_type": "code",
   "execution_count": 58,
   "metadata": {},
   "outputs": [
    {
     "data": {
      "text/plain": [
       "<seaborn.axisgrid.JointGrid at 0x7f656fb35d50>"
      ]
     },
     "execution_count": 58,
     "metadata": {},
     "output_type": "execute_result"
    },
    {
     "data": {
      "image/png": "[encoded data removed]",
      "text/plain": [
       "<Figure size 432x432 with 3 Axes>"
      ]
     },
     "metadata": {
      "needs_background": "light"
     },
     "output_type": "display_data"
    }
   ],
   "source": [
    "a = sns.jointplot(y1_test, pred_ADR_1)\n",
    "# plt.ylabel('Predicted RFR redshift')\n",
    "# plt.xlabel('SDSS redshift')\n",
    "a.set_axis_labels('SDSS redshift', 'Predicted ADR redshift')"
   ]
  },
  {
   "cell_type": "code",
   "execution_count": 59,
   "metadata": {},
   "outputs": [
    {
     "data": {
      "text/plain": [
       "<matplotlib.collections.PathCollection at 0x7f656f87bbd0>"
      ]
     },
     "execution_count": 59,
     "metadata": {},
     "output_type": "execute_result"
    },
    {
     "data": {
      "image/png": "[encoded data removed]",
      "text/plain": [
       "<Figure size 432x288 with 1 Axes>"
      ]
     },
     "metadata": {
      "needs_background": "light"
     },
     "output_type": "display_data"
    }
   ],
   "source": [
    "plt.scatter(y1_test, pred_DTR_1)"
   ]
  },
  {
   "cell_type": "code",
   "execution_count": 60,
   "metadata": {},
   "outputs": [
    {
     "data": {
      "text/plain": [
       "<seaborn.axisgrid.JointGrid at 0x7f656f820050>"
      ]
     },
     "execution_count": 60,
     "metadata": {},
     "output_type": "execute_result"
    },
    {
     "data": {
      "image/png": "[encoded data removed]",
      "text/plain": [
       "<Figure size 432x432 with 3 Axes>"
      ]
     },
     "metadata": {
      "needs_background": "light"
     },
     "output_type": "display_data"
    }
   ],
   "source": [
    "a = sns.jointplot(y1_test, pred_DTR_1)\n",
    "# plt.ylabel('Predicted RFR redshift')\n",
    "# plt.xlabel('SDSS redshift')\n",
    "a.set_axis_labels('SDSS redshift', 'Predicted DTR redshift')"
   ]
  },
  {
   "cell_type": "code",
   "execution_count": 61,
   "metadata": {},
   "outputs": [
    {
     "data": {
      "text/plain": [
       "<matplotlib.collections.PathCollection at 0x7f656f5a78d0>"
      ]
     },
     "execution_count": 61,
     "metadata": {},
     "output_type": "execute_result"
    },
    {
     "data": {
      "image/png": "[encoded data removed]",
      "text/plain": [
       "<Figure size 432x288 with 1 Axes>"
      ]
     },
     "metadata": {
      "needs_background": "light"
     },
     "output_type": "display_data"
    }
   ],
   "source": [
    "plt.scatter(y1_test, pred_RFR_1)"
   ]
  },
  {
   "cell_type": "code",
   "execution_count": 62,
   "metadata": {},
   "outputs": [
    {
     "data": {
      "text/plain": [
       "<seaborn.axisgrid.JointGrid at 0x7f656f5d9f50>"
      ]
     },
     "execution_count": 62,
     "metadata": {},
     "output_type": "execute_result"
    },
    {
     "data": {
      "image/png": "[encoded data removed]",
      "text/plain": [
       "<Figure size 432x432 with 3 Axes>"
      ]
     },
     "metadata": {
      "needs_background": "light"
     },
     "output_type": "display_data"
    }
   ],
   "source": [
    "a = sns.jointplot(y1_test, pred_RFR_1)\n",
    "# plt.ylabel('Predicted RFR redshift')\n",
    "# plt.xlabel('SDSS redshift')\n",
    "a.set_axis_labels('SDSS redshift', 'Predicted RFR redshift')"
   ]
  },
  {
   "cell_type": "code",
   "execution_count": 234,
   "metadata": {},
   "outputs": [],
   "source": [
    "# Outlier analysis"
   ]
  },
  {
   "cell_type": "code",
   "execution_count": 93,
   "metadata": {},
   "outputs": [],
   "source": [
    "# mod(Zpred - Zspec)/(1+Zspec) > 0.15\n",
    "# We don't have pz-sz right now =>"
   ]
  },
  {
   "cell_type": "code",
   "execution_count": 95,
   "metadata": {},
   "outputs": [],
   "source": [
    "# data_origi['specz']"
   ]
  },
  {
   "cell_type": "code",
   "execution_count": 63,
   "metadata": {},
   "outputs": [],
   "source": [
    "datao = data_origi[data1_columns]"
   ]
  },
  {
   "cell_type": "code",
   "execution_count": 64,
   "metadata": {},
   "outputs": [],
   "source": [
    "# data1_columns\n",
    "Xo = datao.drop(['photoz'], axis = 1)"
   ]
  },
  {
   "cell_type": "code",
   "execution_count": 65,
   "metadata": {},
   "outputs": [],
   "source": [
    "d = {'photoz' : data_origi['photoz'], 'specz' : data_origi['specz']}"
   ]
  },
  {
   "cell_type": "code",
   "execution_count": 66,
   "metadata": {},
   "outputs": [],
   "source": [
    "yo = pd.DataFrame(data = d)"
   ]
  },
  {
   "cell_type": "code",
   "execution_count": 67,
   "metadata": {},
   "outputs": [],
   "source": [
    "# yo"
   ]
  },
  {
   "cell_type": "code",
   "execution_count": 68,
   "metadata": {},
   "outputs": [],
   "source": [
    "Xo_train, Xo_test, yo_train, yo_test = train_test_split(Xo, yo, test_size=0.4, random_state=101)"
   ]
  },
  {
   "cell_type": "code",
   "execution_count": 69,
   "metadata": {},
   "outputs": [
    {
     "data": {
      "text/plain": [
       "0.5842600342978057"
      ]
     },
     "execution_count": 69,
     "metadata": {},
     "output_type": "execute_result"
    }
   ],
   "source": [
    "yo_train['photoz'][1]"
   ]
  },
  {
   "cell_type": "code",
   "execution_count": 70,
   "metadata": {},
   "outputs": [],
   "source": [
    "DTRo = DecisionTreeRegressor()\n",
    "DTRo.fit(Xo_train, yo_train['photoz'])\n",
    "predDo = DTRo.predict(Xo_test)"
   ]
  },
  {
   "cell_type": "code",
   "execution_count": 71,
   "metadata": {},
   "outputs": [
    {
     "data": {
      "text/plain": [
       "0.026597543490723144"
      ]
     },
     "execution_count": 71,
     "metadata": {},
     "output_type": "execute_result"
    }
   ],
   "source": [
    "np.array(yo_train['specz'])[0]"
   ]
  },
  {
   "cell_type": "code",
   "execution_count": 85,
   "metadata": {},
   "outputs": [
    {
     "name": "stdout",
     "output_type": "stream",
     "text": [
      "1311935    0.235412\n",
      "985692     0.360481\n",
      "967202     0.430940\n",
      "843024     0.145561\n",
      "40393      0.157225\n",
      "Name: photoz, dtype: float64\n"
     ]
    }
   ],
   "source": [
    "print(y_train.head())"
   ]
  },
  {
   "cell_type": "code",
   "execution_count": 86,
   "metadata": {},
   "outputs": [],
   "source": [
    "# For outliers mod(Zpred - Zspec)/(1+Zspec) > 0.15\n",
    "Bias0 = []\n",
    "Precision0 = []\n",
    "OutL = 0.0\n",
    "N = len(predDo)\n",
    "for a in range(N):\n",
    "    if(np.abs(predDo[a] - np.array(yo_test['specz'])[a])/(1 + np.array(yo_test['specz'])[a]) >= 0.15):\n",
    "        OutL += 1\n",
    "    Bias0.append(np.abs(predDo[a] - np.array(yo_test['specz'])[a]))\n",
    "    Precision0.append((predDo[a] - np.array(yo_test['specz'])[a])/(1 + np.array(yo_test['specz'])[a]))\n",
    "OutLdtr = OutL*100/N\n",
    "Biasdtr = np.mean(Bias0)\n",
    "Precisiondtr = np.std(Precision0)"
   ]
  },
  {
   "cell_type": "code",
   "execution_count": 87,
   "metadata": {},
   "outputs": [
    {
     "name": "stdout",
     "output_type": "stream",
     "text": [
      "(55.97988311469671, 0.25526016791434974, 0.16165593154704935)\n"
     ]
    }
   ],
   "source": [
    "print(OutLdtr, Biasdtr, Precisiondtr)"
   ]
  },
  {
   "cell_type": "code",
   "execution_count": 76,
   "metadata": {},
   "outputs": [],
   "source": [
    "RFRo = RandomForestRegressor()\n",
    "RFRo.fit(Xo_train, yo_train['photoz'])\n",
    "predRo = RFRo.predict(Xo_test)"
   ]
  },
  {
   "cell_type": "code",
   "execution_count": 88,
   "metadata": {},
   "outputs": [],
   "source": [
    "# For outliers mod(Zpred - Zspec)/(1+Zspec) > 0.15\n",
    "OutL = 0.0\n",
    "N = len(predRo)\n",
    "Bias1 = []\n",
    "Precision1 = []\n",
    "for a in range(N):\n",
    "    if(np.abs(predRo[a] - np.array(yo_test['specz'])[a])/(1 + np.array(yo_test['specz'])[a]) >= 0.15):\n",
    "        OutL += 1\n",
    "    Bias1.append(np.abs(predRo[a] - np.array(yo_test['specz'])[a]))\n",
    "    Precision1.append((predRo[a] - np.array(yo_test['specz'])[a])/(1 + np.array(yo_test['specz'])[a]))\n",
    "\n",
    "OutLRateRF = OutL*100/N\n",
    "Biasrfr = np.mean(Bias1)\n",
    "Precisionrfr = np.std(Precision1)"
   ]
  },
  {
   "cell_type": "code",
   "execution_count": 89,
   "metadata": {},
   "outputs": [
    {
     "name": "stdout",
     "output_type": "stream",
     "text": [
      "(55.84813996306916, 0.2552314243068017, 0.158777072223615)\n"
     ]
    }
   ],
   "source": [
    "print(OutLRateRF, Biasrfr, Precisionrfr)"
   ]
  },
  {
   "cell_type": "code",
   "execution_count": 80,
   "metadata": {},
   "outputs": [],
   "source": [
    "ADRo = AdaBoostRegressor(DTRo)\n",
    "ADRo.fit(Xo_train, yo_train['photoz'])\n",
    "predAo = ADRo.predict(Xo_test)"
   ]
  },
  {
   "cell_type": "code",
   "execution_count": 90,
   "metadata": {},
   "outputs": [],
   "source": [
    "# For outliers mod(Zpred - Zspec)/(1+Zspec) > 0.15\n",
    "OutL = 0.0\n",
    "N = len(predRo)\n",
    "Bias2 = []\n",
    "Precision2 = []\n",
    "for a in range(N):\n",
    "    if(np.abs(predAo[a] - np.array(yo_test['specz'])[a])/(1 + np.array(yo_test['specz'])[a]) >= 0.15):\n",
    "        OutL += 1\n",
    "    Bias2.append(np.abs(predAo[a] - np.array(yo_test['specz'])[a]))\n",
    "    Precision2.append((predAo[a] - np.array(yo_test['specz'])[a])/(1 + np.array(yo_test['specz'])[a]))\n",
    "\n",
    "OutLRateADR = OutL*100/N\n",
    "Biasadr = np.mean(Bias2)\n",
    "Precisionadr = np.std(Precision2)"
   ]
  },
  {
   "cell_type": "code",
   "execution_count": 91,
   "metadata": {},
   "outputs": [
    {
     "name": "stdout",
     "output_type": "stream",
     "text": [
      "(55.63729747496747, 0.2550022708070775, 0.1597450110678089)\n"
     ]
    }
   ],
   "source": [
    "print(OutLRateADR, Biasadr, Precisionadr)"
   ]
  }
 ],
 "metadata": {
  "kernelspec": {
   "display_name": "Python 2",
   "language": "python",
   "name": "python2"
  },
  "language_info": {
   "codemirror_mode": {
    "name": "ipython",
    "version": 2
   },
   "file_extension": ".py",
   "mimetype": "text/x-python",
   "name": "python",
   "nbconvert_exporter": "python",
   "pygments_lexer": "ipython2",
   "version": "2.7.14"
  }
 },
 "nbformat": 4,
 "nbformat_minor": 2
}
