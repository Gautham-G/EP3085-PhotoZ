{
 "cells": [
  {
   "cell_type": "code",
   "execution_count": 1,
   "metadata": {},
   "outputs": [
    {
     "name": "stderr",
     "output_type": "stream",
     "text": [
      "/apps/python-2.7.14/lib/python2.7/site-packages/scikit_learn-0.19.2-py2.7-linux-x86_64.egg/sklearn/ensemble/weight_boosting.py:29: DeprecationWarning: numpy.core.umath_tests is an internal NumPy module and should not be imported. It will be removed in a future NumPy release.\n",
      "  from numpy.core.umath_tests import inner1d\n"
     ]
    }
   ],
   "source": [
    "from sklearn.ensemble import RandomForestRegressor\n",
    "from sklearn.tree import DecisionTreeRegressor\n",
    "from boruta import BorutaPy as bp\n",
    "import pandas as pd\n",
    "import numpy as np\n",
    "import matplotlib.pyplot as plt\n",
    "from sklearn.model_selection import train_test_split\n",
    "from sklearn.model_selection import train_test_split\n",
    "from sklearn.linear_model import LinearRegression\n",
    "from sklearn.ensemble import RandomForestRegressor\n",
    "from sklearn.feature_selection import SelectFromModel\n",
    "from sklearn.svm import SVR\n",
    "import time\n",
    "from sklearn.preprocessing import MinMaxScaler"
   ]
  },
  {
   "cell_type": "code",
   "execution_count": 2,
   "metadata": {},
   "outputs": [],
   "source": [
    "data = pd.read_csv('specPhotoDR10v2_GauthamG_0.csv')"
   ]
  },
  {
   "cell_type": "code",
   "execution_count": 3,
   "metadata": {},
   "outputs": [],
   "source": [
    "data.dropna(inplace = True)"
   ]
  },
  {
   "cell_type": "code",
   "execution_count": 4,
   "metadata": {},
   "outputs": [
    {
     "data": {
      "text/html": [
       "<div>\n",
       "<style scoped>\n",
       "    .dataframe tbody tr th:only-of-type {\n",
       "        vertical-align: middle;\n",
       "    }\n",
       "\n",
       "    .dataframe tbody tr th {\n",
       "        vertical-align: top;\n",
       "    }\n",
       "\n",
       "    .dataframe thead th {\n",
       "        text-align: right;\n",
       "    }\n",
       "</style>\n",
       "<table border=\"1\" class=\"dataframe\">\n",
       "  <thead>\n",
       "    <tr style=\"text-align: right;\">\n",
       "      <th></th>\n",
       "      <th>specObjID</th>\n",
       "      <th>objid</th>\n",
       "      <th>ra</th>\n",
       "      <th>dec</th>\n",
       "      <th>photoz</th>\n",
       "      <th>photoz_err</th>\n",
       "      <th>specz</th>\n",
       "      <th>specz_err</th>\n",
       "      <th>dered_u</th>\n",
       "      <th>dered_g</th>\n",
       "      <th>...</th>\n",
       "      <th>expPhi_g</th>\n",
       "      <th>expAB_r</th>\n",
       "      <th>expRad_r</th>\n",
       "      <th>expPhi_r</th>\n",
       "      <th>expAB_i</th>\n",
       "      <th>expRad_i</th>\n",
       "      <th>expPhi_i</th>\n",
       "      <th>expAB_z</th>\n",
       "      <th>expRad_z</th>\n",
       "      <th>expPhi_z</th>\n",
       "    </tr>\n",
       "  </thead>\n",
       "  <tbody>\n",
       "    <tr>\n",
       "      <th>0</th>\n",
       "      <td>0.081865</td>\n",
       "      <td>0.002829</td>\n",
       "      <td>0.154768</td>\n",
       "      <td>0.128969</td>\n",
       "      <td>0.297002</td>\n",
       "      <td>0.999681</td>\n",
       "      <td>0.043863</td>\n",
       "      <td>0.001021</td>\n",
       "      <td>0.533379</td>\n",
       "      <td>0.480263</td>\n",
       "      <td>...</td>\n",
       "      <td>0.464509</td>\n",
       "      <td>0.824348</td>\n",
       "      <td>0.013380</td>\n",
       "      <td>0.479943</td>\n",
       "      <td>0.796099</td>\n",
       "      <td>0.013494</td>\n",
       "      <td>0.480844</td>\n",
       "      <td>0.606807</td>\n",
       "      <td>0.010235</td>\n",
       "      <td>0.506055</td>\n",
       "    </tr>\n",
       "    <tr>\n",
       "      <th>1</th>\n",
       "      <td>0.081868</td>\n",
       "      <td>0.002829</td>\n",
       "      <td>0.156205</td>\n",
       "      <td>0.129019</td>\n",
       "      <td>0.584260</td>\n",
       "      <td>0.999817</td>\n",
       "      <td>0.064740</td>\n",
       "      <td>0.001021</td>\n",
       "      <td>0.479019</td>\n",
       "      <td>0.490616</td>\n",
       "      <td>...</td>\n",
       "      <td>0.540118</td>\n",
       "      <td>0.594466</td>\n",
       "      <td>0.013163</td>\n",
       "      <td>0.515143</td>\n",
       "      <td>0.610589</td>\n",
       "      <td>0.013029</td>\n",
       "      <td>0.511761</td>\n",
       "      <td>0.279182</td>\n",
       "      <td>0.012368</td>\n",
       "      <td>0.545185</td>\n",
       "    </tr>\n",
       "    <tr>\n",
       "      <th>2</th>\n",
       "      <td>0.081493</td>\n",
       "      <td>0.002877</td>\n",
       "      <td>0.141090</td>\n",
       "      <td>0.136944</td>\n",
       "      <td>0.152211</td>\n",
       "      <td>0.999683</td>\n",
       "      <td>0.022515</td>\n",
       "      <td>0.001021</td>\n",
       "      <td>0.428546</td>\n",
       "      <td>0.415922</td>\n",
       "      <td>...</td>\n",
       "      <td>0.475371</td>\n",
       "      <td>0.913257</td>\n",
       "      <td>0.035797</td>\n",
       "      <td>0.476118</td>\n",
       "      <td>0.890801</td>\n",
       "      <td>0.034961</td>\n",
       "      <td>0.484317</td>\n",
       "      <td>0.949539</td>\n",
       "      <td>0.025079</td>\n",
       "      <td>0.470135</td>\n",
       "    </tr>\n",
       "    <tr>\n",
       "      <th>3</th>\n",
       "      <td>0.081494</td>\n",
       "      <td>0.002877</td>\n",
       "      <td>0.141090</td>\n",
       "      <td>0.136944</td>\n",
       "      <td>0.152211</td>\n",
       "      <td>0.999683</td>\n",
       "      <td>0.022520</td>\n",
       "      <td>0.001021</td>\n",
       "      <td>0.428546</td>\n",
       "      <td>0.415922</td>\n",
       "      <td>...</td>\n",
       "      <td>0.475371</td>\n",
       "      <td>0.913257</td>\n",
       "      <td>0.035797</td>\n",
       "      <td>0.476118</td>\n",
       "      <td>0.890801</td>\n",
       "      <td>0.034961</td>\n",
       "      <td>0.484317</td>\n",
       "      <td>0.949539</td>\n",
       "      <td>0.025079</td>\n",
       "      <td>0.470135</td>\n",
       "    </tr>\n",
       "    <tr>\n",
       "      <th>6</th>\n",
       "      <td>0.081493</td>\n",
       "      <td>0.002877</td>\n",
       "      <td>0.141406</td>\n",
       "      <td>0.138006</td>\n",
       "      <td>0.606950</td>\n",
       "      <td>0.999776</td>\n",
       "      <td>0.001497</td>\n",
       "      <td>0.001021</td>\n",
       "      <td>0.600054</td>\n",
       "      <td>0.507319</td>\n",
       "      <td>...</td>\n",
       "      <td>0.578584</td>\n",
       "      <td>0.172073</td>\n",
       "      <td>0.025074</td>\n",
       "      <td>0.583177</td>\n",
       "      <td>0.338253</td>\n",
       "      <td>0.005512</td>\n",
       "      <td>0.543976</td>\n",
       "      <td>0.197601</td>\n",
       "      <td>0.006683</td>\n",
       "      <td>0.507553</td>\n",
       "    </tr>\n",
       "  </tbody>\n",
       "</table>\n",
       "<p>5 rows × 80 columns</p>\n",
       "</div>"
      ],
      "text/plain": [
       "   specObjID     objid        ra       dec    photoz  photoz_err     specz  \\\n",
       "0   0.081865  0.002829  0.154768  0.128969  0.297002    0.999681  0.043863   \n",
       "1   0.081868  0.002829  0.156205  0.129019  0.584260    0.999817  0.064740   \n",
       "2   0.081493  0.002877  0.141090  0.136944  0.152211    0.999683  0.022515   \n",
       "3   0.081494  0.002877  0.141090  0.136944  0.152211    0.999683  0.022520   \n",
       "6   0.081493  0.002877  0.141406  0.138006  0.606950    0.999776  0.001497   \n",
       "\n",
       "   specz_err   dered_u   dered_g    ...     expPhi_g   expAB_r  expRad_r  \\\n",
       "0   0.001021  0.533379  0.480263    ...     0.464509  0.824348  0.013380   \n",
       "1   0.001021  0.479019  0.490616    ...     0.540118  0.594466  0.013163   \n",
       "2   0.001021  0.428546  0.415922    ...     0.475371  0.913257  0.035797   \n",
       "3   0.001021  0.428546  0.415922    ...     0.475371  0.913257  0.035797   \n",
       "6   0.001021  0.600054  0.507319    ...     0.578584  0.172073  0.025074   \n",
       "\n",
       "   expPhi_r   expAB_i  expRad_i  expPhi_i   expAB_z  expRad_z  expPhi_z  \n",
       "0  0.479943  0.796099  0.013494  0.480844  0.606807  0.010235  0.506055  \n",
       "1  0.515143  0.610589  0.013029  0.511761  0.279182  0.012368  0.545185  \n",
       "2  0.476118  0.890801  0.034961  0.484317  0.949539  0.025079  0.470135  \n",
       "3  0.476118  0.890801  0.034961  0.484317  0.949539  0.025079  0.470135  \n",
       "6  0.583177  0.338253  0.005512  0.543976  0.197601  0.006683  0.507553  \n",
       "\n",
       "[5 rows x 80 columns]"
      ]
     },
     "execution_count": 4,
     "metadata": {},
     "output_type": "execute_result"
    }
   ],
   "source": [
    "scaler = MinMaxScaler()\n",
    "data[data.columns] = scaler.fit_transform(data[data.columns])\n",
    "data.head()"
   ]
  },
  {
   "cell_type": "code",
   "execution_count": 5,
   "metadata": {},
   "outputs": [],
   "source": [
    "data.dropna(inplace = True)"
   ]
  },
  {
   "cell_type": "code",
   "execution_count": 6,
   "metadata": {},
   "outputs": [],
   "source": [
    "data = data.drop(['specObjID', 'objid'], axis = 1)"
   ]
  },
  {
   "cell_type": "code",
   "execution_count": 7,
   "metadata": {},
   "outputs": [],
   "source": [
    "XErr = []\n",
    "sub1 = 'err'\n",
    "for a in list(data.columns):\n",
    "  if sub1 in a:\n",
    "    XErr.append(a)\n",
    "sub2 = 'Err'\n",
    "for a in list(data.columns):\n",
    "  if sub2 in a:\n",
    "    XErr.append(a)"
   ]
  },
  {
   "cell_type": "code",
   "execution_count": 8,
   "metadata": {},
   "outputs": [],
   "source": [
    "data = data.drop(XErr, axis = 1)"
   ]
  },
  {
   "cell_type": "code",
   "execution_count": 9,
   "metadata": {},
   "outputs": [],
   "source": [
    "data_origi = data"
   ]
  },
  {
   "cell_type": "code",
   "execution_count": 10,
   "metadata": {},
   "outputs": [],
   "source": [
    "data = data.drop(['specType', 'photpType', 'specz'], axis = 1)"
   ]
  },
  {
   "cell_type": "code",
   "execution_count": 11,
   "metadata": {},
   "outputs": [],
   "source": [
    "RFR = RandomForestRegressor()\n",
    "X = data.drop(['photoz'], axis = 1)\n",
    "y = data['photoz']\n",
    "names = list(X.columns)"
   ]
  },
  {
   "cell_type": "code",
   "execution_count": 23,
   "metadata": {},
   "outputs": [],
   "source": [
    "from sklearn.model_selection import GridSearchCV\n",
    "from sklearn.model_selection import cross_val_score"
   ]
  },
  {
   "cell_type": "code",
   "execution_count": 24,
   "metadata": {},
   "outputs": [],
   "source": [
    "def rfr_model(X, y):\n",
    "#         Grid Search\n",
    "        gsc = GridSearchCV(estimator = RandomForestRegressor(), param_grid = {'max_depth' : range(3, 7), 'n_estimators' : (10, 50, 100, 1000)}, cv = 5, scoring = 'neg_mean_squared_error', verbose = 0, n_jobs = -1)\n",
    "        grid_result = gsc.fit(X, y)\n",
    "        best_params = grid_result.best_params_\n",
    "        \n",
    "        rfr = RandomForestRegressor(max_depth=best_params['max_depth'], n_estimators=best_params['n_estimators'], random_state = False, verbose = False)\n",
    "#          5-fold CV        \n",
    "        scores = cross_val_score(rfr, X, y, cv = 5, scoring = 'neg_mean_squared_error')\n",
    "        return scores"
   ]
  },
  {
   "cell_type": "code",
   "execution_count": 25,
   "metadata": {},
   "outputs": [],
   "source": [
    "X_train, X_test, y_train, y_test = train_test_split(X, y, test_size=0.4, random_state=101)"
   ]
  },
  {
   "cell_type": "code",
   "execution_count": 26,
   "metadata": {},
   "outputs": [
    {
     "data": {
      "text/plain": [
       "array([-0.00293879, -0.00293265, -0.00292337, -0.00294917, -0.00295836])"
      ]
     },
     "execution_count": 26,
     "metadata": {},
     "output_type": "execute_result"
    }
   ],
   "source": [
    "rfr_model(X_train, y_train)"
   ]
  },
  {
   "cell_type": "markdown",
   "metadata": {},
   "source": [
    " Looks like there is no need of cross validation as the default model performs with a very similar score and crossvalidating for each sample/Algorithm takes > 6hours for 3-4 sets of parameters on an average, gain in accuracy does not seem good enough for amount of runtime required to crossvalidate."
   ]
  }
 ],
 "metadata": {
  "kernelspec": {
   "display_name": "Python 2",
   "language": "python",
   "name": "python2"
  },
  "language_info": {
   "codemirror_mode": {
    "name": "ipython",
    "version": 2
   },
   "file_extension": ".py",
   "mimetype": "text/x-python",
   "name": "python",
   "nbconvert_exporter": "python",
   "pygments_lexer": "ipython2",
   "version": "2.7.14"
  }
 },
 "nbformat": 4,
 "nbformat_minor": 2
}
